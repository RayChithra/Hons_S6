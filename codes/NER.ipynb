{
 "cells": [
  {
   "cell_type": "code",
   "execution_count": 1,
   "metadata": {},
   "outputs": [],
   "source": [
    "import csv\n",
    "import nltk\n",
    "from nltk.corpus import stopwords\n",
    "import sys\n",
    "import string"
   ]
  },
  {
   "cell_type": "code",
   "execution_count": 2,
   "metadata": {},
   "outputs": [
    {
     "name": "stderr",
     "output_type": "stream",
     "text": [
      "[nltk_data] Downloading package punkt to /home/raychithra/nltk_data...\n",
      "[nltk_data]   Package punkt is already up-to-date!\n",
      "[nltk_data] Downloading package averaged_perceptron_tagger to\n",
      "[nltk_data]     /home/raychithra/nltk_data...\n",
      "[nltk_data]   Package averaged_perceptron_tagger is already up-to-\n",
      "[nltk_data]       date!\n",
      "[nltk_data] Downloading package maxent_ne_chunker to\n",
      "[nltk_data]     /home/raychithra/nltk_data...\n",
      "[nltk_data]   Package maxent_ne_chunker is already up-to-date!\n",
      "[nltk_data] Downloading package words to /home/raychithra/nltk_data...\n",
      "[nltk_data]   Package words is already up-to-date!\n"
     ]
    },
    {
     "data": {
      "text/plain": [
       "True"
      ]
     },
     "execution_count": 2,
     "metadata": {},
     "output_type": "execute_result"
    }
   ],
   "source": [
    "nltk.download('punkt')\n",
    "nltk.download('averaged_perceptron_tagger')\n",
    "nltk.download('maxent_ne_chunker')\n",
    "nltk.download('words')"
   ]
  },
  {
   "cell_type": "code",
   "execution_count": 7,
   "metadata": {},
   "outputs": [],
   "source": [
    "DATA_DIR = \"../speeches\"\n",
    "RESULTS_DIR = \"../speeches/results/NER\""
   ]
  },
  {
   "cell_type": "markdown",
   "metadata": {},
   "source": [
    "### Declare Stopwords ###"
   ]
  },
  {
   "cell_type": "code",
   "execution_count": 8,
   "metadata": {},
   "outputs": [],
   "source": [
    "with open(\"remove_words.txt\", \"r\") as f:\n",
    "    MORE_STOPWORDS = f.read().split(\"\\n\")\n",
    "\n",
    "STOPWORDS = stopwords.words('english')\n",
    "WC_STOP = set(list(STOPWORDS) + MORE_STOPWORDS)"
   ]
  },
  {
   "cell_type": "code",
   "execution_count": 9,
   "metadata": {},
   "outputs": [],
   "source": [
    "urls = []\n",
    "dates = []\n",
    "speeches = []\n",
    "\n",
    "with open(DATA_DIR + \"/mann_ki_baat.csv\", \"r\", encoding=\"utf-8\", newline=\"\") as file:\n",
    "    reader = csv.reader(file, delimiter=\"|\")\n",
    "    for row in reader:\n",
    "        urls.append(row[0])\n",
    "        dates.append(row[1])\n",
    "        speeches.append(row[2])"
   ]
  },
  {
   "cell_type": "markdown",
   "metadata": {},
   "source": [
    "### Implement Named Entity Recognition ###"
   ]
  },
  {
   "cell_type": "markdown",
   "metadata": {},
   "source": [
    "##### Names"
   ]
  },
  {
   "cell_type": "code",
   "execution_count": 9,
   "metadata": {},
   "outputs": [],
   "source": [
    "with open(RESULTS_DIR + \"/names.txt\", \"w\") as f:\n",
    "    for text in speeches:\n",
    "        for sent in nltk.sent_tokenize(text):\n",
    "            for chunk in nltk.ne_chunk(nltk.pos_tag(nltk.word_tokenize(sent))):\n",
    "                # print(chunk)\n",
    "                if hasattr(chunk, 'label'):\n",
    "                    # print(chunk.label(), ' '.join(c[0] for c in chunk))\n",
    "\n",
    "                    if chunk.label() == \"PERSON\":\n",
    "                        f.write(' '.join(c[0] for c in chunk) + \"\\n\")\n"
   ]
  },
  {
   "cell_type": "markdown",
   "metadata": {},
   "source": [
    "##### GPE"
   ]
  },
  {
   "cell_type": "code",
   "execution_count": 14,
   "metadata": {},
   "outputs": [],
   "source": [
    "with open(RESULTS_DIR + \"/GPE.txt\", \"w\") as f:\n",
    "    for text in speeches:\n",
    "        for sent in nltk.sent_tokenize(text):\n",
    "            for chunk in nltk.ne_chunk(nltk.pos_tag(nltk.word_tokenize(sent))):\n",
    "                # print(chunk)\n",
    "                if hasattr(chunk, 'label'):\n",
    "                    # print(chunk.label(), ' '.join(c[0] for c in chunk))\n",
    "\n",
    "                    if chunk.label() == \"GPE\":\n",
    "                        f.write(' '.join(c[0] for c in chunk) + \"\\n\")"
   ]
  },
  {
   "cell_type": "markdown",
   "metadata": {},
   "source": [
    "##### Organizations"
   ]
  },
  {
   "cell_type": "code",
   "execution_count": 17,
   "metadata": {},
   "outputs": [],
   "source": [
    "with open(RESULTS_DIR + \"/org.txt\", \"w\") as f:\n",
    "    for text in speeches:\n",
    "        for sent in nltk.sent_tokenize(text):\n",
    "            for chunk in nltk.ne_chunk(nltk.pos_tag(nltk.word_tokenize(sent))):\n",
    "                # print(chunk)\n",
    "                if hasattr(chunk, 'label'):\n",
    "                    # print(chunk.label(), ' '.join(c[0] for c in chunk))\n",
    "\n",
    "                    if chunk.label() == \"ORGANIZATION\":\n",
    "                        f.write(' '.join(c[0] for c in chunk) + \"\\n\")"
   ]
  },
  {
   "cell_type": "markdown",
   "metadata": {},
   "source": [
    "### Frequencies for nouns ###"
   ]
  },
  {
   "cell_type": "markdown",
   "metadata": {},
   "source": [
    "##### Names"
   ]
  },
  {
   "cell_type": "code",
   "execution_count": 5,
   "metadata": {},
   "outputs": [],
   "source": [
    "name_freq = {}\n",
    "with open(RESULTS_DIR + \"/names.txt\", \"r\") as f:\n",
    "    names = f.read().split(\"\\n\")\n",
    "\n",
    "for word in names:\n",
    "    if word not in name_freq.keys():\n",
    "        name_freq[word] = 1\n",
    "    else:\n",
    "        name_freq[word] += 1\n",
    "\n",
    "ordered_name_freq = dict(sorted(name_freq.items(), key=lambda item: item[1], reverse = True))"
   ]
  },
  {
   "cell_type": "code",
   "execution_count": 42,
   "metadata": {},
   "outputs": [],
   "source": [
    "with open(RESULTS_DIR + \"/name_freq.txt\", \"w\") as f:\n",
    "    for key in ordered_name_freq.keys():\n",
    "        f.write(key + \" : \" + str(ordered_name_freq[key]) +\"\\n\")"
   ]
  },
  {
   "cell_type": "markdown",
   "metadata": {},
   "source": [
    "##### GPE"
   ]
  },
  {
   "cell_type": "code",
   "execution_count": 15,
   "metadata": {},
   "outputs": [],
   "source": [
    "gpe_freq = {}\n",
    "with open(RESULTS_DIR + \"/GPE.txt\", \"r\") as f:\n",
    "    gpes = f.read().split(\"\\n\")\n",
    "\n",
    "for word in gpes:\n",
    "    if word not in gpe_freq.keys():\n",
    "        gpe_freq[word] = 1\n",
    "    else:\n",
    "        gpe_freq[word] += 1\n",
    "\n",
    "ordered_gpe_freq = dict(sorted(gpe_freq.items(), key=lambda item: item[1], reverse = True))"
   ]
  },
  {
   "cell_type": "code",
   "execution_count": 16,
   "metadata": {},
   "outputs": [],
   "source": [
    "with open(RESULTS_DIR + \"/GPE_freq.txt\", \"w\") as f:\n",
    "    for key in ordered_gpe_freq.keys():\n",
    "        f.write(key + \" : \" + str(ordered_gpe_freq[key]) +\"\\n\")"
   ]
  },
  {
   "cell_type": "markdown",
   "metadata": {},
   "source": [
    "##### Organizations"
   ]
  },
  {
   "cell_type": "code",
   "execution_count": 18,
   "metadata": {},
   "outputs": [],
   "source": [
    "org_freq = {}\n",
    "with open(RESULTS_DIR + \"/org.txt\", \"r\") as f:\n",
    "    orgs = f.read().split(\"\\n\")\n",
    "\n",
    "for word in orgs:\n",
    "    if word not in org_freq.keys():\n",
    "        org_freq[word] = 1\n",
    "    else:\n",
    "        org_freq[word] += 1\n",
    "\n",
    "ordered_org_freq = dict(sorted(org_freq.items(), key=lambda item: item[1], reverse = True))"
   ]
  },
  {
   "cell_type": "code",
   "execution_count": 19,
   "metadata": {},
   "outputs": [],
   "source": [
    "with open(RESULTS_DIR + \"/org_freq.txt\", \"w\") as f:\n",
    "    for key in ordered_org_freq.keys():\n",
    "        f.write(key + \" : \" + str(ordered_org_freq[key]) +\"\\n\")"
   ]
  },
  {
   "cell_type": "markdown",
   "metadata": {},
   "source": [
    "##### Modi index and India index"
   ]
  },
  {
   "cell_type": "code",
   "execution_count": 10,
   "metadata": {},
   "outputs": [],
   "source": [
    "modi_index = 0\n",
    "india_index = 0"
   ]
  },
  {
   "cell_type": "code",
   "execution_count": 11,
   "metadata": {},
   "outputs": [
    {
     "name": "stdout",
     "output_type": "stream",
     "text": [
      "Modi_Index : 196\n",
      "\n",
      "India_Index : 1462\n"
     ]
    }
   ],
   "source": [
    "for text in speeches:\n",
    "    for sent in nltk.sent_tokenize(text):\n",
    "        for chunk in nltk.ne_chunk(nltk.pos_tag(nltk.word_tokenize(sent))):\n",
    "            # print(chunk)\n",
    "            if hasattr(chunk, 'label'):\n",
    "                noun = ' '.join(c[0] for c in chunk)\n",
    "                # print(chunk.label(), ' '.join(c[0] for c in chunk))\n",
    "                if noun == \"Modi\" or noun == \"Narendra Modi\":\n",
    "                    modi_index += 1\n",
    "                if noun == \"India\" or noun == \"Indian\" or noun == \"Bharat\" or noun == \"Hindustan\":\n",
    "                    india_index += 1\n",
    "\n",
    "print(\"Modi_Index : \" + str(modi_index))\n",
    "print(\"India_Index : \" + str(india_index))"
   ]
  },
  {
   "cell_type": "markdown",
   "metadata": {},
   "source": [
    "##### Overall frequencies"
   ]
  },
  {
   "cell_type": "code",
   "execution_count": 10,
   "metadata": {},
   "outputs": [],
   "source": [
    "noun_freq = {}\n",
    "\n",
    "for text in speeches:\n",
    "    for sent in nltk.sent_tokenize(text):\n",
    "        for chunk in nltk.ne_chunk(nltk.pos_tag(nltk.word_tokenize(sent))):\n",
    "            if hasattr(chunk, 'label'):\n",
    "                noun = ' '.join(c[0] for c in chunk)\n",
    "                if noun not in noun_freq.keys():\n",
    "                    noun_freq[noun] = 1\n",
    "                else:\n",
    "                    noun_freq[noun] += 1\n",
    "\n",
    "ordered_noun_freq = dict(sorted(noun_freq.items(), key=lambda item: item[1], reverse = True))\n",
    "\n",
    "with open(RESULTS_DIR + \"/noun_freq.txt\", \"w\") as f:\n",
    "    for key in ordered_noun_freq.keys():\n",
    "        f.write(key + \" : \" + str(ordered_noun_freq[key]) +\"\\n\")"
   ]
  },
  {
   "cell_type": "code",
   "execution_count": null,
   "metadata": {},
   "outputs": [],
   "source": []
  }
 ],
 "metadata": {
  "interpreter": {
   "hash": "069fd38f6cc964e80aa64be22201a6a61411afc451904091a31ae1fa4b17e129"
  },
  "kernelspec": {
   "display_name": "Python 3.9.7 ('base')",
   "language": "python",
   "name": "python3"
  },
  "language_info": {
   "codemirror_mode": {
    "name": "ipython",
    "version": 3
   },
   "file_extension": ".py",
   "mimetype": "text/x-python",
   "name": "python",
   "nbconvert_exporter": "python",
   "pygments_lexer": "ipython3",
   "version": "3.9.7"
  },
  "orig_nbformat": 4
 },
 "nbformat": 4,
 "nbformat_minor": 2
}
