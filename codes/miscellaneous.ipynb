{
 "cells": [
  {
   "cell_type": "code",
   "execution_count": 1,
   "metadata": {},
   "outputs": [],
   "source": [
    "import os"
   ]
  },
  {
   "cell_type": "markdown",
   "metadata": {},
   "source": [
    "## Find occurence of a phrase in speeches"
   ]
  },
  {
   "cell_type": "code",
   "execution_count": 84,
   "metadata": {},
   "outputs": [],
   "source": [
    "DATA_DIR = \"../speeches\"\n",
    "SPEECHES_DIR = DATA_DIR + \"/transcripts_english\"\n",
    "\n",
    "directory = os.fsencode(SPEECHES_DIR)"
   ]
  },
  {
   "cell_type": "code",
   "execution_count": 85,
   "metadata": {},
   "outputs": [],
   "source": [
    "def find_occurences(PHRASE):\n",
    "    for file in os.listdir(directory):\n",
    "        filename = os.fsdecode(file)\n",
    "        if filename.endswith(\".txt\"):\n",
    "            file_path = SPEECHES_DIR + \"/\" + filename\n",
    "            with open(file_path, 'r') as f:\n",
    "                speech = f.read()\n",
    "                result = speech.find(PHRASE)\n",
    "                if result != -1:\n",
    "                    print(f\"{PHRASE} : {filename}\")\n",
    "            # print(speech)\n",
    "            continue\n",
    "        else:\n",
    "            continue"
   ]
  },
  {
   "cell_type": "code",
   "execution_count": 86,
   "metadata": {},
   "outputs": [
    {
     "name": "stdout",
     "output_type": "stream",
     "text": [
      "philosopher’s stone : 2021_02_28.txt\n",
      "philosopher’s stone : 2019_06_30.txt\n"
     ]
    }
   ],
   "source": [
    "find_occurences(\"philosopher’s stone\")"
   ]
  },
  {
   "cell_type": "code",
   "execution_count": 89,
   "metadata": {},
   "outputs": [
    {
     "name": "stdout",
     "output_type": "stream",
     "text": [
      "demonetisation : 2017_03_26.txt\n",
      "demonetisation : 2020_07_26.txt\n",
      "demonetisation : 2016_11_27.txt\n",
      "demonetisation : 2017_02_26.txt\n"
     ]
    }
   ],
   "source": [
    "find_occurences(\"Demonetisation\")\n",
    "find_occurences(\"demonetisation\")"
   ]
  },
  {
   "cell_type": "code",
   "execution_count": 93,
   "metadata": {},
   "outputs": [
    {
     "name": "stdout",
     "output_type": "stream",
     "text": [
      "Water conservation : 2021_07_25.txt\n",
      "water conservation : 2016_06_26.txt\n",
      "water conservation : 2021_02_28.txt\n",
      "water conservation : 2020_06_28.txt\n",
      "water conservation : 2021_07_25.txt\n",
      "water conservation : 2019_07_28.txt\n",
      "water conservation : 2018_03_25.txt\n",
      "water conservation : 2022_03_27.txt\n",
      "water conservation : 2021_06_27.txt\n",
      "water conservation : 2020_01_26.txt\n",
      "water conservation : 2016_03_27.txt\n",
      "water conservation : 2019_06_30.txt\n",
      "water conservation : 2018_04_29.txt\n",
      "water conservation : 2016_05_22.txt\n",
      "conserving water : 2021_08_29.txt\n",
      "conserving water : 2020_01_26.txt\n",
      "conserving water : 2016_05_22.txt\n",
      "conservation of water : 2021_02_28.txt\n",
      "conservation of water : 2019_06_30.txt\n",
      "conservation of water : 2018_04_29.txt\n"
     ]
    }
   ],
   "source": [
    "find_occurences(\"Water conservation\")\n",
    "find_occurences(\"water conservation\")\n",
    "find_occurences(\"Conserving water\")\n",
    "find_occurences(\"conserving water\")\n",
    "find_occurences(\"Conservation of water\")\n",
    "find_occurences(\"conservation of water\")"
   ]
  },
  {
   "cell_type": "code",
   "execution_count": 105,
   "metadata": {},
   "outputs": [
    {
     "name": "stdout",
     "output_type": "stream",
     "text": [
      "Statue of Unity : 2019_10_27.txt\n",
      "Statue of Unity : 2021_02_28.txt\n",
      "Statue of Unity : 2020_08_30.txt\n",
      "Statue of Unity : 2021_10_24.txt\n",
      "Statue of Unity : 2020_10_25.txt\n",
      "Statue of Unity : 2021_08_29.txt\n",
      "Statue of Unity : 2018_12_30.txt\n"
     ]
    }
   ],
   "source": [
    "find_occurences(\"Statue of Unity\")"
   ]
  },
  {
   "cell_type": "code",
   "execution_count": 106,
   "metadata": {},
   "outputs": [
    {
     "name": "stdout",
     "output_type": "stream",
     "text": [
      "Swachh Bharat Abhiyan : 2018_09_30.txt\n",
      "Swachh Bharat Abhiyan : 2021_10_24.txt\n",
      "Swachh Bharat Abhiyan : 2021_08_29.txt\n",
      "Swachh Bharat Abhiyan : 2018_01_28.txt\n",
      "Swachh Bharat Abhiyan : 2022_02_27.txt\n",
      "Swachh Bharat Abhiyan : 2018_02_25.txt\n",
      "cleanliness : 2019_10_27.txt\n",
      "cleanliness : 2017_03_26.txt\n",
      "cleanliness : 2018_09_30.txt\n",
      "cleanliness : 2017_08_27.txt\n",
      "cleanliness : 2021_09_26.txt\n",
      "cleanliness : 2016_01_31.txt\n",
      "cleanliness : 2019_07_28.txt\n",
      "cleanliness : 2021_10_24.txt\n",
      "cleanliness : 2020_04_26.txt\n",
      "cleanliness : 2019_08_25.txt\n",
      "cleanliness : 2020_12_27.txt\n",
      "cleanliness : 2014_11_02.txt\n",
      "cleanliness : 2021_08_29.txt\n",
      "cleanliness : 2018_03_25.txt\n",
      "cleanliness : 2017_01_29.txt\n",
      "cleanliness : 2017_06_25.txt\n",
      "cleanliness : 2015_08_30.txt\n",
      "cleanliness : 2017_09_24.txt\n",
      "cleanliness : 2018_12_30.txt\n",
      "cleanliness : 2018_01_28.txt\n",
      "cleanliness : 2020_07_26.txt\n",
      "cleanliness : 2015_11_29.txt\n",
      "cleanliness : 2016_11_27.txt\n",
      "cleanliness : 2022_03_27.txt\n",
      "cleanliness : 2016_09_25.txt\n",
      "cleanliness : 2018_10_28.txt\n",
      "cleanliness : 2016_10_30.txt\n",
      "cleanliness : 2018_05_27.txt\n",
      "cleanliness : 2020_01_26.txt\n",
      "cleanliness : 2021_01_31.txt\n",
      "cleanliness : 2015_10_25.txt\n",
      "cleanliness : 2021_05_30.txt\n",
      "cleanliness : 2016_08_28.txt\n",
      "cleanliness : 2016_03_27.txt\n",
      "cleanliness : 2022_02_27.txt\n",
      "cleanliness : 2018_11_25.txt\n",
      "cleanliness : 2017_02_26.txt\n",
      "cleanliness : 2017_05_28.txt\n",
      "cleanliness : 2015_12_27.txt\n",
      "cleanliness : 2018_02_25.txt\n",
      "cleanliness : 2016_07_31.txt\n",
      "cleanliness : 2019_11_24.txt\n",
      "cleanliness : 2019_06_30.txt\n",
      "cleanliness : 2017_10_29.txt\n",
      "cleanliness : 2018_04_29.txt\n",
      "cleanliness : 2016_05_22.txt\n",
      "cleanliness : 2017_12_31.txt\n",
      "cleanliness : 2021_12_26.txt\n",
      "cleanliness : 2019_09_29.txt\n",
      "cleanliness : 2015_09_20.txt\n"
     ]
    }
   ],
   "source": [
    "find_occurences(\"Swachh Bharat Abhiyan\")\n",
    "find_occurences(\"cleanliness\")"
   ]
  },
  {
   "cell_type": "code",
   "execution_count": 108,
   "metadata": {},
   "outputs": [
    {
     "name": "stdout",
     "output_type": "stream",
     "text": [
      "Narendra Modi App : 2017_08_27.txt\n",
      "Narendra Modi App : 2021_02_28.txt\n",
      "Narendra Modi App : 2016_02_28.txt\n",
      "Narendra Modi App : 2016_01_31.txt\n",
      "Narendra Modi App : 2019_07_28.txt\n",
      "Narendra Modi App : 2018_07_29.txt\n",
      "Narendra Modi App : 2018_03_25.txt\n",
      "Narendra Modi App : 2018_01_28.txt\n",
      "Narendra Modi App : 2019_02_24.txt\n",
      "Narendra Modi App : 2015_12_27.txt\n",
      "Narendra Modi App : 2017_12_31.txt\n",
      "NaMo App : 2021_02_28.txt\n",
      "Namo App : 2019_10_27.txt\n",
      "Namo App : 2020_05_31.txt\n",
      "Namo App : 2021_07_25.txt\n",
      "Namo App : 2021_11_28.txt\n",
      "Namo App : 2021_06_27.txt\n",
      "Namo App : 2021_01_31.txt\n",
      "Namo App : 2020_03_29.txt\n",
      "Namo App : 2019_01_27.txt\n",
      "Namo App : 2020_02_23.txt\n",
      "Namo App : 2021_12_26.txt\n",
      "NAMO App : 2020_12_27.txt\n"
     ]
    }
   ],
   "source": [
    "find_occurences(\"Narendra Modi App\")\n",
    "find_occurences(\"NaMo App\")\n",
    "find_occurences(\"Namo App\")\n",
    "find_occurences(\"NAMO App\")"
   ]
  },
  {
   "cell_type": "code",
   "execution_count": null,
   "metadata": {},
   "outputs": [],
   "source": []
  }
 ],
 "metadata": {
  "interpreter": {
   "hash": "069fd38f6cc964e80aa64be22201a6a61411afc451904091a31ae1fa4b17e129"
  },
  "kernelspec": {
   "display_name": "Python 3.9.7 ('base')",
   "language": "python",
   "name": "python3"
  },
  "language_info": {
   "codemirror_mode": {
    "name": "ipython",
    "version": 3
   },
   "file_extension": ".py",
   "mimetype": "text/x-python",
   "name": "python",
   "nbconvert_exporter": "python",
   "pygments_lexer": "ipython3",
   "version": "3.9.7"
  },
  "orig_nbformat": 4
 },
 "nbformat": 4,
 "nbformat_minor": 2
}
